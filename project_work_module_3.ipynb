{
  "nbformat": 4,
  "nbformat_minor": 0,
  "metadata": {
    "colab": {
      "name": "project_work_module-3",
      "provenance": [],
      "collapsed_sections": [],
      "include_colab_link": true
    },
    "kernelspec": {
      "name": "python3",
      "display_name": "Python 3"
    }
  },
  "cells": [
    {
      "cell_type": "markdown",
      "metadata": {
        "id": "view-in-github",
        "colab_type": "text"
      },
      "source": [
        "<a href=\"https://colab.research.google.com/github/RajatTanwar1/minor_project/blob/main/project_work_module_3.ipynb\" target=\"_parent\"><img src=\"https://colab.research.google.com/assets/colab-badge.svg\" alt=\"Open In Colab\"/></a>"
      ]
    },
    {
      "cell_type": "markdown",
      "metadata": {
        "id": "gYDIVSW0jSS8"
      },
      "source": [
        "#step -1\n",
        "import the required files and package\n"
      ]
    },
    {
      "cell_type": "code",
      "metadata": {
        "id": "qCClyYHXZkG4"
      },
      "source": [
        "\n",
        "import pandas as pd\n",
        "from matplotlib import pyplot as plt\n",
        "import seaborn as sns"
      ],
      "execution_count": 1,
      "outputs": []
    },
    {
      "cell_type": "code",
      "metadata": {
        "id": "Gu_7i3rrdfig"
      },
      "source": [
        "url=\"https://raw.githubusercontent.com/RajatTanwar1/minor_project/main/HR_comma_%20-%20Sheet1.csv\""
      ],
      "execution_count": 2,
      "outputs": []
    },
    {
      "cell_type": "code",
      "metadata": {
        "id": "hcX1uft3dfXR"
      },
      "source": [
        "df=pd.read_csv(url)"
      ],
      "execution_count": 3,
      "outputs": []
    },
    {
      "cell_type": "code",
      "metadata": {
        "id": "xaEuolnSdfN5",
        "colab": {
          "base_uri": "https://localhost:8080/",
          "height": 204
        },
        "outputId": "b1a9c842-8762-4b65-80b9-b950a8a23c55"
      },
      "source": [
        "df.head(5)"
      ],
      "execution_count": 4,
      "outputs": [
        {
          "output_type": "execute_result",
          "data": {
            "text/html": [
              "<div>\n",
              "<style scoped>\n",
              "    .dataframe tbody tr th:only-of-type {\n",
              "        vertical-align: middle;\n",
              "    }\n",
              "\n",
              "    .dataframe tbody tr th {\n",
              "        vertical-align: top;\n",
              "    }\n",
              "\n",
              "    .dataframe thead th {\n",
              "        text-align: right;\n",
              "    }\n",
              "</style>\n",
              "<table border=\"1\" class=\"dataframe\">\n",
              "  <thead>\n",
              "    <tr style=\"text-align: right;\">\n",
              "      <th></th>\n",
              "      <th>satisfaction_level</th>\n",
              "      <th>last_evaluation</th>\n",
              "      <th>number_project</th>\n",
              "      <th>average_montly_hours</th>\n",
              "      <th>time_spend_company</th>\n",
              "      <th>Work_accident</th>\n",
              "      <th>left</th>\n",
              "      <th>promotion_last_5years</th>\n",
              "      <th>Department</th>\n",
              "      <th>salary</th>\n",
              "    </tr>\n",
              "  </thead>\n",
              "  <tbody>\n",
              "    <tr>\n",
              "      <th>0</th>\n",
              "      <td>0.38</td>\n",
              "      <td>0.53</td>\n",
              "      <td>2</td>\n",
              "      <td>157</td>\n",
              "      <td>3</td>\n",
              "      <td>0</td>\n",
              "      <td>1</td>\n",
              "      <td>0</td>\n",
              "      <td>sales</td>\n",
              "      <td>low</td>\n",
              "    </tr>\n",
              "    <tr>\n",
              "      <th>1</th>\n",
              "      <td>0.80</td>\n",
              "      <td>0.86</td>\n",
              "      <td>5</td>\n",
              "      <td>262</td>\n",
              "      <td>6</td>\n",
              "      <td>0</td>\n",
              "      <td>1</td>\n",
              "      <td>0</td>\n",
              "      <td>sales</td>\n",
              "      <td>medium</td>\n",
              "    </tr>\n",
              "    <tr>\n",
              "      <th>2</th>\n",
              "      <td>0.11</td>\n",
              "      <td>0.88</td>\n",
              "      <td>7</td>\n",
              "      <td>272</td>\n",
              "      <td>4</td>\n",
              "      <td>0</td>\n",
              "      <td>1</td>\n",
              "      <td>0</td>\n",
              "      <td>sales</td>\n",
              "      <td>medium</td>\n",
              "    </tr>\n",
              "    <tr>\n",
              "      <th>3</th>\n",
              "      <td>0.72</td>\n",
              "      <td>0.87</td>\n",
              "      <td>5</td>\n",
              "      <td>223</td>\n",
              "      <td>5</td>\n",
              "      <td>0</td>\n",
              "      <td>1</td>\n",
              "      <td>0</td>\n",
              "      <td>sales</td>\n",
              "      <td>low</td>\n",
              "    </tr>\n",
              "    <tr>\n",
              "      <th>4</th>\n",
              "      <td>0.37</td>\n",
              "      <td>0.52</td>\n",
              "      <td>2</td>\n",
              "      <td>159</td>\n",
              "      <td>3</td>\n",
              "      <td>0</td>\n",
              "      <td>1</td>\n",
              "      <td>0</td>\n",
              "      <td>sales</td>\n",
              "      <td>low</td>\n",
              "    </tr>\n",
              "  </tbody>\n",
              "</table>\n",
              "</div>"
            ],
            "text/plain": [
              "   satisfaction_level  last_evaluation  ...  Department  salary\n",
              "0                0.38             0.53  ...       sales     low\n",
              "1                0.80             0.86  ...       sales  medium\n",
              "2                0.11             0.88  ...       sales  medium\n",
              "3                0.72             0.87  ...       sales     low\n",
              "4                0.37             0.52  ...       sales     low\n",
              "\n",
              "[5 rows x 10 columns]"
            ]
          },
          "metadata": {},
          "execution_count": 4
        }
      ]
    },
    {
      "cell_type": "markdown",
      "metadata": {
        "id": "8mIqZHd7jnrP"
      },
      "source": [
        "#step-2\n",
        "Data  cleaning<br>\n",
        "Dataset used here is already clean \n",
        "\n"
      ]
    },
    {
      "cell_type": "code",
      "metadata": {
        "id": "S2ObNNWjdfBA",
        "colab": {
          "base_uri": "https://localhost:8080/"
        },
        "outputId": "61ed8e9b-c0d2-4be1-b0b2-5efeae8d9c85"
      },
      "source": [
        "df.isnull().any()"
      ],
      "execution_count": 5,
      "outputs": [
        {
          "output_type": "execute_result",
          "data": {
            "text/plain": [
              "satisfaction_level       False\n",
              "last_evaluation          False\n",
              "number_project           False\n",
              "average_montly_hours     False\n",
              "time_spend_company       False\n",
              "Work_accident            False\n",
              "left                     False\n",
              "promotion_last_5years    False\n",
              "Department               False\n",
              "salary                   False\n",
              "dtype: bool"
            ]
          },
          "metadata": {},
          "execution_count": 5
        }
      ]
    },
    {
      "cell_type": "code",
      "metadata": {
        "id": "wSp-nA7Rfctd",
        "colab": {
          "base_uri": "https://localhost:8080/"
        },
        "outputId": "cf0ddd1b-573a-4468-f3d9-5d75dc5bceab"
      },
      "source": [
        "for col in df.columns:\n",
        "  print(col, \" : \",len(df[col].unique()),'labels')"
      ],
      "execution_count": 6,
      "outputs": [
        {
          "output_type": "stream",
          "name": "stdout",
          "text": [
            "satisfaction_level  :  92 labels\n",
            "last_evaluation  :  65 labels\n",
            "number_project  :  6 labels\n",
            "average_montly_hours  :  215 labels\n",
            "time_spend_company  :  8 labels\n",
            "Work_accident  :  2 labels\n",
            "left  :  2 labels\n",
            "promotion_last_5years  :  2 labels\n",
            "Department  :  10 labels\n",
            "salary  :  3 labels\n"
          ]
        }
      ]
    },
    {
      "cell_type": "markdown",
      "metadata": {
        "id": "QJQ80llsfCv_"
      },
      "source": [
        "\n",
        "#step-3\n",
        "Dealing with Text-Data<br>\n",
        "Two types of categorical data<br>\n",
        "Label Encoding<br>\n",
        "Ordinal Encoding\n"
      ]
    },
    {
      "cell_type": "code",
      "metadata": {
        "id": "gI0-JHR-eixn",
        "colab": {
          "base_uri": "https://localhost:8080/"
        },
        "outputId": "c4db4b24-2512-4775-92e9-55a631ebb949"
      },
      "source": [
        "df['Department'].value_counts()"
      ],
      "execution_count": 7,
      "outputs": [
        {
          "output_type": "execute_result",
          "data": {
            "text/plain": [
              "sales          4140\n",
              "technical      2720\n",
              "support        2229\n",
              "IT             1227\n",
              "product_mng     902\n",
              "marketing       858\n",
              "RandD           787\n",
              "accounting      767\n",
              "hr              739\n",
              "management      630\n",
              "Name: Department, dtype: int64"
            ]
          },
          "metadata": {},
          "execution_count": 7
        }
      ]
    },
    {
      "cell_type": "code",
      "metadata": {
        "id": "hExulkFSqsbT",
        "colab": {
          "base_uri": "https://localhost:8080/"
        },
        "outputId": "82345c81-281c-4fe1-bd26-5362a304bc40"
      },
      "source": [
        "df['left'].value_counts()"
      ],
      "execution_count": 8,
      "outputs": [
        {
          "output_type": "execute_result",
          "data": {
            "text/plain": [
              "0    11428\n",
              "1     3571\n",
              "Name: left, dtype: int64"
            ]
          },
          "metadata": {},
          "execution_count": 8
        }
      ]
    },
    {
      "cell_type": "markdown",
      "metadata": {
        "id": "Igtnw2aukPel"
      },
      "source": [
        "Applying Label encoding"
      ]
    },
    {
      "cell_type": "code",
      "metadata": {
        "id": "LwspToVwREtp"
      },
      "source": [
        "emp=pd.get_dummies(df,columns=['Department'],drop_first=True)"
      ],
      "execution_count": 9,
      "outputs": []
    },
    {
      "cell_type": "code",
      "metadata": {
        "id": "TZ0F92tpRYQG",
        "colab": {
          "base_uri": "https://localhost:8080/",
          "height": 224
        },
        "outputId": "dbb7b345-0f4a-4550-efe3-a867b4c9bb04"
      },
      "source": [
        "emp.head(5)"
      ],
      "execution_count": 10,
      "outputs": [
        {
          "output_type": "execute_result",
          "data": {
            "text/html": [
              "<div>\n",
              "<style scoped>\n",
              "    .dataframe tbody tr th:only-of-type {\n",
              "        vertical-align: middle;\n",
              "    }\n",
              "\n",
              "    .dataframe tbody tr th {\n",
              "        vertical-align: top;\n",
              "    }\n",
              "\n",
              "    .dataframe thead th {\n",
              "        text-align: right;\n",
              "    }\n",
              "</style>\n",
              "<table border=\"1\" class=\"dataframe\">\n",
              "  <thead>\n",
              "    <tr style=\"text-align: right;\">\n",
              "      <th></th>\n",
              "      <th>satisfaction_level</th>\n",
              "      <th>last_evaluation</th>\n",
              "      <th>number_project</th>\n",
              "      <th>average_montly_hours</th>\n",
              "      <th>time_spend_company</th>\n",
              "      <th>Work_accident</th>\n",
              "      <th>left</th>\n",
              "      <th>promotion_last_5years</th>\n",
              "      <th>salary</th>\n",
              "      <th>Department_RandD</th>\n",
              "      <th>Department_accounting</th>\n",
              "      <th>Department_hr</th>\n",
              "      <th>Department_management</th>\n",
              "      <th>Department_marketing</th>\n",
              "      <th>Department_product_mng</th>\n",
              "      <th>Department_sales</th>\n",
              "      <th>Department_support</th>\n",
              "      <th>Department_technical</th>\n",
              "    </tr>\n",
              "  </thead>\n",
              "  <tbody>\n",
              "    <tr>\n",
              "      <th>0</th>\n",
              "      <td>0.38</td>\n",
              "      <td>0.53</td>\n",
              "      <td>2</td>\n",
              "      <td>157</td>\n",
              "      <td>3</td>\n",
              "      <td>0</td>\n",
              "      <td>1</td>\n",
              "      <td>0</td>\n",
              "      <td>low</td>\n",
              "      <td>0</td>\n",
              "      <td>0</td>\n",
              "      <td>0</td>\n",
              "      <td>0</td>\n",
              "      <td>0</td>\n",
              "      <td>0</td>\n",
              "      <td>1</td>\n",
              "      <td>0</td>\n",
              "      <td>0</td>\n",
              "    </tr>\n",
              "    <tr>\n",
              "      <th>1</th>\n",
              "      <td>0.80</td>\n",
              "      <td>0.86</td>\n",
              "      <td>5</td>\n",
              "      <td>262</td>\n",
              "      <td>6</td>\n",
              "      <td>0</td>\n",
              "      <td>1</td>\n",
              "      <td>0</td>\n",
              "      <td>medium</td>\n",
              "      <td>0</td>\n",
              "      <td>0</td>\n",
              "      <td>0</td>\n",
              "      <td>0</td>\n",
              "      <td>0</td>\n",
              "      <td>0</td>\n",
              "      <td>1</td>\n",
              "      <td>0</td>\n",
              "      <td>0</td>\n",
              "    </tr>\n",
              "    <tr>\n",
              "      <th>2</th>\n",
              "      <td>0.11</td>\n",
              "      <td>0.88</td>\n",
              "      <td>7</td>\n",
              "      <td>272</td>\n",
              "      <td>4</td>\n",
              "      <td>0</td>\n",
              "      <td>1</td>\n",
              "      <td>0</td>\n",
              "      <td>medium</td>\n",
              "      <td>0</td>\n",
              "      <td>0</td>\n",
              "      <td>0</td>\n",
              "      <td>0</td>\n",
              "      <td>0</td>\n",
              "      <td>0</td>\n",
              "      <td>1</td>\n",
              "      <td>0</td>\n",
              "      <td>0</td>\n",
              "    </tr>\n",
              "    <tr>\n",
              "      <th>3</th>\n",
              "      <td>0.72</td>\n",
              "      <td>0.87</td>\n",
              "      <td>5</td>\n",
              "      <td>223</td>\n",
              "      <td>5</td>\n",
              "      <td>0</td>\n",
              "      <td>1</td>\n",
              "      <td>0</td>\n",
              "      <td>low</td>\n",
              "      <td>0</td>\n",
              "      <td>0</td>\n",
              "      <td>0</td>\n",
              "      <td>0</td>\n",
              "      <td>0</td>\n",
              "      <td>0</td>\n",
              "      <td>1</td>\n",
              "      <td>0</td>\n",
              "      <td>0</td>\n",
              "    </tr>\n",
              "    <tr>\n",
              "      <th>4</th>\n",
              "      <td>0.37</td>\n",
              "      <td>0.52</td>\n",
              "      <td>2</td>\n",
              "      <td>159</td>\n",
              "      <td>3</td>\n",
              "      <td>0</td>\n",
              "      <td>1</td>\n",
              "      <td>0</td>\n",
              "      <td>low</td>\n",
              "      <td>0</td>\n",
              "      <td>0</td>\n",
              "      <td>0</td>\n",
              "      <td>0</td>\n",
              "      <td>0</td>\n",
              "      <td>0</td>\n",
              "      <td>1</td>\n",
              "      <td>0</td>\n",
              "      <td>0</td>\n",
              "    </tr>\n",
              "  </tbody>\n",
              "</table>\n",
              "</div>"
            ],
            "text/plain": [
              "   satisfaction_level  ...  Department_technical\n",
              "0                0.38  ...                     0\n",
              "1                0.80  ...                     0\n",
              "2                0.11  ...                     0\n",
              "3                0.72  ...                     0\n",
              "4                0.37  ...                     0\n",
              "\n",
              "[5 rows x 18 columns]"
            ]
          },
          "metadata": {},
          "execution_count": 10
        }
      ]
    },
    {
      "cell_type": "markdown",
      "metadata": {
        "id": "fUe8kN9FicPw"
      },
      "source": [
        "Move the variable \"left\" to the back of the table"
      ]
    },
    {
      "cell_type": "code",
      "metadata": {
        "id": "z8S6Vehhic3A",
        "colab": {
          "base_uri": "https://localhost:8080/",
          "height": 224
        },
        "outputId": "1f388a3e-7cd3-44c3-b9c5-4d7d545a72e4"
      },
      "source": [
        "last=emp['left']\n",
        "emp.drop(labels=['left'],axis=1,inplace=True)\n",
        "emp.insert(0,'left',last)\n",
        "emp.head(5)"
      ],
      "execution_count": 11,
      "outputs": [
        {
          "output_type": "execute_result",
          "data": {
            "text/html": [
              "<div>\n",
              "<style scoped>\n",
              "    .dataframe tbody tr th:only-of-type {\n",
              "        vertical-align: middle;\n",
              "    }\n",
              "\n",
              "    .dataframe tbody tr th {\n",
              "        vertical-align: top;\n",
              "    }\n",
              "\n",
              "    .dataframe thead th {\n",
              "        text-align: right;\n",
              "    }\n",
              "</style>\n",
              "<table border=\"1\" class=\"dataframe\">\n",
              "  <thead>\n",
              "    <tr style=\"text-align: right;\">\n",
              "      <th></th>\n",
              "      <th>left</th>\n",
              "      <th>satisfaction_level</th>\n",
              "      <th>last_evaluation</th>\n",
              "      <th>number_project</th>\n",
              "      <th>average_montly_hours</th>\n",
              "      <th>time_spend_company</th>\n",
              "      <th>Work_accident</th>\n",
              "      <th>promotion_last_5years</th>\n",
              "      <th>salary</th>\n",
              "      <th>Department_RandD</th>\n",
              "      <th>Department_accounting</th>\n",
              "      <th>Department_hr</th>\n",
              "      <th>Department_management</th>\n",
              "      <th>Department_marketing</th>\n",
              "      <th>Department_product_mng</th>\n",
              "      <th>Department_sales</th>\n",
              "      <th>Department_support</th>\n",
              "      <th>Department_technical</th>\n",
              "    </tr>\n",
              "  </thead>\n",
              "  <tbody>\n",
              "    <tr>\n",
              "      <th>0</th>\n",
              "      <td>1</td>\n",
              "      <td>0.38</td>\n",
              "      <td>0.53</td>\n",
              "      <td>2</td>\n",
              "      <td>157</td>\n",
              "      <td>3</td>\n",
              "      <td>0</td>\n",
              "      <td>0</td>\n",
              "      <td>low</td>\n",
              "      <td>0</td>\n",
              "      <td>0</td>\n",
              "      <td>0</td>\n",
              "      <td>0</td>\n",
              "      <td>0</td>\n",
              "      <td>0</td>\n",
              "      <td>1</td>\n",
              "      <td>0</td>\n",
              "      <td>0</td>\n",
              "    </tr>\n",
              "    <tr>\n",
              "      <th>1</th>\n",
              "      <td>1</td>\n",
              "      <td>0.80</td>\n",
              "      <td>0.86</td>\n",
              "      <td>5</td>\n",
              "      <td>262</td>\n",
              "      <td>6</td>\n",
              "      <td>0</td>\n",
              "      <td>0</td>\n",
              "      <td>medium</td>\n",
              "      <td>0</td>\n",
              "      <td>0</td>\n",
              "      <td>0</td>\n",
              "      <td>0</td>\n",
              "      <td>0</td>\n",
              "      <td>0</td>\n",
              "      <td>1</td>\n",
              "      <td>0</td>\n",
              "      <td>0</td>\n",
              "    </tr>\n",
              "    <tr>\n",
              "      <th>2</th>\n",
              "      <td>1</td>\n",
              "      <td>0.11</td>\n",
              "      <td>0.88</td>\n",
              "      <td>7</td>\n",
              "      <td>272</td>\n",
              "      <td>4</td>\n",
              "      <td>0</td>\n",
              "      <td>0</td>\n",
              "      <td>medium</td>\n",
              "      <td>0</td>\n",
              "      <td>0</td>\n",
              "      <td>0</td>\n",
              "      <td>0</td>\n",
              "      <td>0</td>\n",
              "      <td>0</td>\n",
              "      <td>1</td>\n",
              "      <td>0</td>\n",
              "      <td>0</td>\n",
              "    </tr>\n",
              "    <tr>\n",
              "      <th>3</th>\n",
              "      <td>1</td>\n",
              "      <td>0.72</td>\n",
              "      <td>0.87</td>\n",
              "      <td>5</td>\n",
              "      <td>223</td>\n",
              "      <td>5</td>\n",
              "      <td>0</td>\n",
              "      <td>0</td>\n",
              "      <td>low</td>\n",
              "      <td>0</td>\n",
              "      <td>0</td>\n",
              "      <td>0</td>\n",
              "      <td>0</td>\n",
              "      <td>0</td>\n",
              "      <td>0</td>\n",
              "      <td>1</td>\n",
              "      <td>0</td>\n",
              "      <td>0</td>\n",
              "    </tr>\n",
              "    <tr>\n",
              "      <th>4</th>\n",
              "      <td>1</td>\n",
              "      <td>0.37</td>\n",
              "      <td>0.52</td>\n",
              "      <td>2</td>\n",
              "      <td>159</td>\n",
              "      <td>3</td>\n",
              "      <td>0</td>\n",
              "      <td>0</td>\n",
              "      <td>low</td>\n",
              "      <td>0</td>\n",
              "      <td>0</td>\n",
              "      <td>0</td>\n",
              "      <td>0</td>\n",
              "      <td>0</td>\n",
              "      <td>0</td>\n",
              "      <td>1</td>\n",
              "      <td>0</td>\n",
              "      <td>0</td>\n",
              "    </tr>\n",
              "  </tbody>\n",
              "</table>\n",
              "</div>"
            ],
            "text/plain": [
              "   left  satisfaction_level  ...  Department_support  Department_technical\n",
              "0     1                0.38  ...                   0                     0\n",
              "1     1                0.80  ...                   0                     0\n",
              "2     1                0.11  ...                   0                     0\n",
              "3     1                0.72  ...                   0                     0\n",
              "4     1                0.37  ...                   0                     0\n",
              "\n",
              "[5 rows x 18 columns]"
            ]
          },
          "metadata": {},
          "execution_count": 11
        }
      ]
    },
    {
      "cell_type": "markdown",
      "metadata": {
        "id": "umbc4sbLkfcd"
      },
      "source": [
        "Applying ordinal encoding"
      ]
    },
    {
      "cell_type": "code",
      "metadata": {
        "id": "L36DFzKulTNu",
        "colab": {
          "base_uri": "https://localhost:8080/"
        },
        "outputId": "c707b7dd-1737-416b-f5a3-59117169b5e6"
      },
      "source": [
        "df['salary'].value_counts()"
      ],
      "execution_count": 12,
      "outputs": [
        {
          "output_type": "execute_result",
          "data": {
            "text/plain": [
              "low       7316\n",
              "medium    6446\n",
              "high      1237\n",
              "Name: salary, dtype: int64"
            ]
          },
          "metadata": {},
          "execution_count": 12
        }
      ]
    },
    {
      "cell_type": "code",
      "metadata": {
        "id": "fj2gXR8UlAe_"
      },
      "source": [
        "order_label={\"low\":1,\"medium\":2,\"high\":3}"
      ],
      "execution_count": 13,
      "outputs": []
    },
    {
      "cell_type": "code",
      "metadata": {
        "id": "WCOStGcgk0XG"
      },
      "source": [
        "emp[\"salary\"]=emp[\"salary\"].map(order_label)"
      ],
      "execution_count": 14,
      "outputs": []
    },
    {
      "cell_type": "code",
      "metadata": {
        "id": "IfbkFMXBlcCg",
        "colab": {
          "base_uri": "https://localhost:8080/",
          "height": 224
        },
        "outputId": "277fabe4-df51-449d-9c90-06401bc111df"
      },
      "source": [
        "emp.head(5)"
      ],
      "execution_count": 15,
      "outputs": [
        {
          "output_type": "execute_result",
          "data": {
            "text/html": [
              "<div>\n",
              "<style scoped>\n",
              "    .dataframe tbody tr th:only-of-type {\n",
              "        vertical-align: middle;\n",
              "    }\n",
              "\n",
              "    .dataframe tbody tr th {\n",
              "        vertical-align: top;\n",
              "    }\n",
              "\n",
              "    .dataframe thead th {\n",
              "        text-align: right;\n",
              "    }\n",
              "</style>\n",
              "<table border=\"1\" class=\"dataframe\">\n",
              "  <thead>\n",
              "    <tr style=\"text-align: right;\">\n",
              "      <th></th>\n",
              "      <th>left</th>\n",
              "      <th>satisfaction_level</th>\n",
              "      <th>last_evaluation</th>\n",
              "      <th>number_project</th>\n",
              "      <th>average_montly_hours</th>\n",
              "      <th>time_spend_company</th>\n",
              "      <th>Work_accident</th>\n",
              "      <th>promotion_last_5years</th>\n",
              "      <th>salary</th>\n",
              "      <th>Department_RandD</th>\n",
              "      <th>Department_accounting</th>\n",
              "      <th>Department_hr</th>\n",
              "      <th>Department_management</th>\n",
              "      <th>Department_marketing</th>\n",
              "      <th>Department_product_mng</th>\n",
              "      <th>Department_sales</th>\n",
              "      <th>Department_support</th>\n",
              "      <th>Department_technical</th>\n",
              "    </tr>\n",
              "  </thead>\n",
              "  <tbody>\n",
              "    <tr>\n",
              "      <th>0</th>\n",
              "      <td>1</td>\n",
              "      <td>0.38</td>\n",
              "      <td>0.53</td>\n",
              "      <td>2</td>\n",
              "      <td>157</td>\n",
              "      <td>3</td>\n",
              "      <td>0</td>\n",
              "      <td>0</td>\n",
              "      <td>1</td>\n",
              "      <td>0</td>\n",
              "      <td>0</td>\n",
              "      <td>0</td>\n",
              "      <td>0</td>\n",
              "      <td>0</td>\n",
              "      <td>0</td>\n",
              "      <td>1</td>\n",
              "      <td>0</td>\n",
              "      <td>0</td>\n",
              "    </tr>\n",
              "    <tr>\n",
              "      <th>1</th>\n",
              "      <td>1</td>\n",
              "      <td>0.80</td>\n",
              "      <td>0.86</td>\n",
              "      <td>5</td>\n",
              "      <td>262</td>\n",
              "      <td>6</td>\n",
              "      <td>0</td>\n",
              "      <td>0</td>\n",
              "      <td>2</td>\n",
              "      <td>0</td>\n",
              "      <td>0</td>\n",
              "      <td>0</td>\n",
              "      <td>0</td>\n",
              "      <td>0</td>\n",
              "      <td>0</td>\n",
              "      <td>1</td>\n",
              "      <td>0</td>\n",
              "      <td>0</td>\n",
              "    </tr>\n",
              "    <tr>\n",
              "      <th>2</th>\n",
              "      <td>1</td>\n",
              "      <td>0.11</td>\n",
              "      <td>0.88</td>\n",
              "      <td>7</td>\n",
              "      <td>272</td>\n",
              "      <td>4</td>\n",
              "      <td>0</td>\n",
              "      <td>0</td>\n",
              "      <td>2</td>\n",
              "      <td>0</td>\n",
              "      <td>0</td>\n",
              "      <td>0</td>\n",
              "      <td>0</td>\n",
              "      <td>0</td>\n",
              "      <td>0</td>\n",
              "      <td>1</td>\n",
              "      <td>0</td>\n",
              "      <td>0</td>\n",
              "    </tr>\n",
              "    <tr>\n",
              "      <th>3</th>\n",
              "      <td>1</td>\n",
              "      <td>0.72</td>\n",
              "      <td>0.87</td>\n",
              "      <td>5</td>\n",
              "      <td>223</td>\n",
              "      <td>5</td>\n",
              "      <td>0</td>\n",
              "      <td>0</td>\n",
              "      <td>1</td>\n",
              "      <td>0</td>\n",
              "      <td>0</td>\n",
              "      <td>0</td>\n",
              "      <td>0</td>\n",
              "      <td>0</td>\n",
              "      <td>0</td>\n",
              "      <td>1</td>\n",
              "      <td>0</td>\n",
              "      <td>0</td>\n",
              "    </tr>\n",
              "    <tr>\n",
              "      <th>4</th>\n",
              "      <td>1</td>\n",
              "      <td>0.37</td>\n",
              "      <td>0.52</td>\n",
              "      <td>2</td>\n",
              "      <td>159</td>\n",
              "      <td>3</td>\n",
              "      <td>0</td>\n",
              "      <td>0</td>\n",
              "      <td>1</td>\n",
              "      <td>0</td>\n",
              "      <td>0</td>\n",
              "      <td>0</td>\n",
              "      <td>0</td>\n",
              "      <td>0</td>\n",
              "      <td>0</td>\n",
              "      <td>1</td>\n",
              "      <td>0</td>\n",
              "      <td>0</td>\n",
              "    </tr>\n",
              "  </tbody>\n",
              "</table>\n",
              "</div>"
            ],
            "text/plain": [
              "   left  satisfaction_level  ...  Department_support  Department_technical\n",
              "0     1                0.38  ...                   0                     0\n",
              "1     1                0.80  ...                   0                     0\n",
              "2     1                0.11  ...                   0                     0\n",
              "3     1                0.72  ...                   0                     0\n",
              "4     1                0.37  ...                   0                     0\n",
              "\n",
              "[5 rows x 18 columns]"
            ]
          },
          "metadata": {},
          "execution_count": 15
        }
      ]
    },
    {
      "cell_type": "code",
      "metadata": {
        "id": "JhJy-R_ToExt",
        "colab": {
          "base_uri": "https://localhost:8080/",
          "height": 224
        },
        "outputId": "197af52e-cc66-4753-8756-cd2690f158c6"
      },
      "source": [
        "emp[emp['salary']==3].head(5)"
      ],
      "execution_count": 16,
      "outputs": [
        {
          "output_type": "execute_result",
          "data": {
            "text/html": [
              "<div>\n",
              "<style scoped>\n",
              "    .dataframe tbody tr th:only-of-type {\n",
              "        vertical-align: middle;\n",
              "    }\n",
              "\n",
              "    .dataframe tbody tr th {\n",
              "        vertical-align: top;\n",
              "    }\n",
              "\n",
              "    .dataframe thead th {\n",
              "        text-align: right;\n",
              "    }\n",
              "</style>\n",
              "<table border=\"1\" class=\"dataframe\">\n",
              "  <thead>\n",
              "    <tr style=\"text-align: right;\">\n",
              "      <th></th>\n",
              "      <th>left</th>\n",
              "      <th>satisfaction_level</th>\n",
              "      <th>last_evaluation</th>\n",
              "      <th>number_project</th>\n",
              "      <th>average_montly_hours</th>\n",
              "      <th>time_spend_company</th>\n",
              "      <th>Work_accident</th>\n",
              "      <th>promotion_last_5years</th>\n",
              "      <th>salary</th>\n",
              "      <th>Department_RandD</th>\n",
              "      <th>Department_accounting</th>\n",
              "      <th>Department_hr</th>\n",
              "      <th>Department_management</th>\n",
              "      <th>Department_marketing</th>\n",
              "      <th>Department_product_mng</th>\n",
              "      <th>Department_sales</th>\n",
              "      <th>Department_support</th>\n",
              "      <th>Department_technical</th>\n",
              "    </tr>\n",
              "  </thead>\n",
              "  <tbody>\n",
              "    <tr>\n",
              "      <th>72</th>\n",
              "      <td>1</td>\n",
              "      <td>0.45</td>\n",
              "      <td>0.49</td>\n",
              "      <td>2</td>\n",
              "      <td>149</td>\n",
              "      <td>3</td>\n",
              "      <td>0</td>\n",
              "      <td>0</td>\n",
              "      <td>3</td>\n",
              "      <td>0</td>\n",
              "      <td>0</td>\n",
              "      <td>0</td>\n",
              "      <td>0</td>\n",
              "      <td>0</td>\n",
              "      <td>1</td>\n",
              "      <td>0</td>\n",
              "      <td>0</td>\n",
              "      <td>0</td>\n",
              "    </tr>\n",
              "    <tr>\n",
              "      <th>111</th>\n",
              "      <td>1</td>\n",
              "      <td>0.09</td>\n",
              "      <td>0.85</td>\n",
              "      <td>6</td>\n",
              "      <td>289</td>\n",
              "      <td>4</td>\n",
              "      <td>0</td>\n",
              "      <td>0</td>\n",
              "      <td>3</td>\n",
              "      <td>0</td>\n",
              "      <td>0</td>\n",
              "      <td>1</td>\n",
              "      <td>0</td>\n",
              "      <td>0</td>\n",
              "      <td>0</td>\n",
              "      <td>0</td>\n",
              "      <td>0</td>\n",
              "      <td>0</td>\n",
              "    </tr>\n",
              "    <tr>\n",
              "      <th>189</th>\n",
              "      <td>1</td>\n",
              "      <td>0.44</td>\n",
              "      <td>0.51</td>\n",
              "      <td>2</td>\n",
              "      <td>156</td>\n",
              "      <td>3</td>\n",
              "      <td>0</td>\n",
              "      <td>0</td>\n",
              "      <td>3</td>\n",
              "      <td>0</td>\n",
              "      <td>0</td>\n",
              "      <td>0</td>\n",
              "      <td>0</td>\n",
              "      <td>0</td>\n",
              "      <td>0</td>\n",
              "      <td>0</td>\n",
              "      <td>0</td>\n",
              "      <td>1</td>\n",
              "    </tr>\n",
              "    <tr>\n",
              "      <th>267</th>\n",
              "      <td>1</td>\n",
              "      <td>0.45</td>\n",
              "      <td>0.53</td>\n",
              "      <td>2</td>\n",
              "      <td>129</td>\n",
              "      <td>3</td>\n",
              "      <td>0</td>\n",
              "      <td>0</td>\n",
              "      <td>3</td>\n",
              "      <td>0</td>\n",
              "      <td>0</td>\n",
              "      <td>0</td>\n",
              "      <td>0</td>\n",
              "      <td>0</td>\n",
              "      <td>0</td>\n",
              "      <td>0</td>\n",
              "      <td>0</td>\n",
              "      <td>1</td>\n",
              "    </tr>\n",
              "    <tr>\n",
              "      <th>306</th>\n",
              "      <td>1</td>\n",
              "      <td>0.37</td>\n",
              "      <td>0.46</td>\n",
              "      <td>2</td>\n",
              "      <td>149</td>\n",
              "      <td>3</td>\n",
              "      <td>0</td>\n",
              "      <td>0</td>\n",
              "      <td>3</td>\n",
              "      <td>0</td>\n",
              "      <td>0</td>\n",
              "      <td>0</td>\n",
              "      <td>0</td>\n",
              "      <td>1</td>\n",
              "      <td>0</td>\n",
              "      <td>0</td>\n",
              "      <td>0</td>\n",
              "      <td>0</td>\n",
              "    </tr>\n",
              "  </tbody>\n",
              "</table>\n",
              "</div>"
            ],
            "text/plain": [
              "     left  satisfaction_level  ...  Department_support  Department_technical\n",
              "72      1                0.45  ...                   0                     0\n",
              "111     1                0.09  ...                   0                     0\n",
              "189     1                0.44  ...                   0                     1\n",
              "267     1                0.45  ...                   0                     1\n",
              "306     1                0.37  ...                   0                     0\n",
              "\n",
              "[5 rows x 18 columns]"
            ]
          },
          "metadata": {},
          "execution_count": 16
        }
      ]
    },
    {
      "cell_type": "markdown",
      "metadata": {
        "id": "hhowoEpzsrFr"
      },
      "source": [
        "#Heat map"
      ]
    },
    {
      "cell_type": "code",
      "metadata": {
        "colab": {
          "base_uri": "https://localhost:8080/",
          "height": 717
        },
        "id": "6LDTxd5UstgM",
        "outputId": "76777746-4740-4b6e-9b21-ed21072cf9c0"
      },
      "source": [
        "corrmat=emp.corr()\n",
        "top=corrmat.index\n",
        "plt.figure(figsize=(15,10))\n",
        "g=sns.heatmap(emp[top].corr(),annot=True,cmap='RdYlGn')"
      ],
      "execution_count": 17,
      "outputs": [
        {
          "output_type": "display_data",
          "data": {
            "image/png": "[encoded data removed]",
            "text/plain": [
              "<Figure size 1080x720 with 2 Axes>"
            ]
          },
          "metadata": {
            "needs_background": "light"
          }
        }
      ]
    },
    {
      "cell_type": "markdown",
      "metadata": {
        "id": "mMV7x6jp1u4I"
      },
      "source": [
        "#step 4\n",
        "Train test split"
      ]
    },
    {
      "cell_type": "code",
      "metadata": {
        "id": "OYgDxLu_deuT"
      },
      "source": [
        "from sklearn.model_selection import train_test_split"
      ],
      "execution_count": 18,
      "outputs": []
    },
    {
      "cell_type": "code",
      "metadata": {
        "id": "BeVoRUS9eeD1"
      },
      "source": [
        "target_name=\"left\"\n",
        "X = emp.drop('left', axis=1)\n",
        "y=emp[target_name]\n",
        "X_train, X_test, y_train, y_test = train_test_split(X,y,test_size=0.2, random_state=42)"
      ],
      "execution_count": 19,
      "outputs": []
    },
    {
      "cell_type": "code",
      "metadata": {
        "id": "yqfNt3RLeeAb",
        "colab": {
          "base_uri": "https://localhost:8080/",
          "height": 224
        },
        "outputId": "05d4f433-6f78-4bfd-fe70-199ae68bce08"
      },
      "source": [
        "X_train[:5]"
      ],
      "execution_count": 20,
      "outputs": [
        {
          "output_type": "execute_result",
          "data": {
            "text/html": [
              "<div>\n",
              "<style scoped>\n",
              "    .dataframe tbody tr th:only-of-type {\n",
              "        vertical-align: middle;\n",
              "    }\n",
              "\n",
              "    .dataframe tbody tr th {\n",
              "        vertical-align: top;\n",
              "    }\n",
              "\n",
              "    .dataframe thead th {\n",
              "        text-align: right;\n",
              "    }\n",
              "</style>\n",
              "<table border=\"1\" class=\"dataframe\">\n",
              "  <thead>\n",
              "    <tr style=\"text-align: right;\">\n",
              "      <th></th>\n",
              "      <th>satisfaction_level</th>\n",
              "      <th>last_evaluation</th>\n",
              "      <th>number_project</th>\n",
              "      <th>average_montly_hours</th>\n",
              "      <th>time_spend_company</th>\n",
              "      <th>Work_accident</th>\n",
              "      <th>promotion_last_5years</th>\n",
              "      <th>salary</th>\n",
              "      <th>Department_RandD</th>\n",
              "      <th>Department_accounting</th>\n",
              "      <th>Department_hr</th>\n",
              "      <th>Department_management</th>\n",
              "      <th>Department_marketing</th>\n",
              "      <th>Department_product_mng</th>\n",
              "      <th>Department_sales</th>\n",
              "      <th>Department_support</th>\n",
              "      <th>Department_technical</th>\n",
              "    </tr>\n",
              "  </thead>\n",
              "  <tbody>\n",
              "    <tr>\n",
              "      <th>9838</th>\n",
              "      <td>1.00</td>\n",
              "      <td>0.61</td>\n",
              "      <td>3</td>\n",
              "      <td>188</td>\n",
              "      <td>4</td>\n",
              "      <td>0</td>\n",
              "      <td>0</td>\n",
              "      <td>1</td>\n",
              "      <td>0</td>\n",
              "      <td>0</td>\n",
              "      <td>0</td>\n",
              "      <td>0</td>\n",
              "      <td>0</td>\n",
              "      <td>1</td>\n",
              "      <td>0</td>\n",
              "      <td>0</td>\n",
              "      <td>0</td>\n",
              "    </tr>\n",
              "    <tr>\n",
              "      <th>7689</th>\n",
              "      <td>0.16</td>\n",
              "      <td>0.78</td>\n",
              "      <td>4</td>\n",
              "      <td>196</td>\n",
              "      <td>5</td>\n",
              "      <td>0</td>\n",
              "      <td>0</td>\n",
              "      <td>3</td>\n",
              "      <td>0</td>\n",
              "      <td>0</td>\n",
              "      <td>0</td>\n",
              "      <td>0</td>\n",
              "      <td>0</td>\n",
              "      <td>0</td>\n",
              "      <td>0</td>\n",
              "      <td>0</td>\n",
              "      <td>1</td>\n",
              "    </tr>\n",
              "    <tr>\n",
              "      <th>6557</th>\n",
              "      <td>0.80</td>\n",
              "      <td>0.80</td>\n",
              "      <td>3</td>\n",
              "      <td>175</td>\n",
              "      <td>2</td>\n",
              "      <td>0</td>\n",
              "      <td>0</td>\n",
              "      <td>2</td>\n",
              "      <td>1</td>\n",
              "      <td>0</td>\n",
              "      <td>0</td>\n",
              "      <td>0</td>\n",
              "      <td>0</td>\n",
              "      <td>0</td>\n",
              "      <td>0</td>\n",
              "      <td>0</td>\n",
              "      <td>0</td>\n",
              "    </tr>\n",
              "    <tr>\n",
              "      <th>6872</th>\n",
              "      <td>0.66</td>\n",
              "      <td>0.86</td>\n",
              "      <td>4</td>\n",
              "      <td>112</td>\n",
              "      <td>6</td>\n",
              "      <td>0</td>\n",
              "      <td>0</td>\n",
              "      <td>2</td>\n",
              "      <td>0</td>\n",
              "      <td>1</td>\n",
              "      <td>0</td>\n",
              "      <td>0</td>\n",
              "      <td>0</td>\n",
              "      <td>0</td>\n",
              "      <td>0</td>\n",
              "      <td>0</td>\n",
              "      <td>0</td>\n",
              "    </tr>\n",
              "    <tr>\n",
              "      <th>820</th>\n",
              "      <td>0.11</td>\n",
              "      <td>0.93</td>\n",
              "      <td>7</td>\n",
              "      <td>284</td>\n",
              "      <td>4</td>\n",
              "      <td>0</td>\n",
              "      <td>0</td>\n",
              "      <td>1</td>\n",
              "      <td>0</td>\n",
              "      <td>0</td>\n",
              "      <td>0</td>\n",
              "      <td>0</td>\n",
              "      <td>0</td>\n",
              "      <td>0</td>\n",
              "      <td>0</td>\n",
              "      <td>0</td>\n",
              "      <td>1</td>\n",
              "    </tr>\n",
              "  </tbody>\n",
              "</table>\n",
              "</div>"
            ],
            "text/plain": [
              "      satisfaction_level  ...  Department_technical\n",
              "9838                1.00  ...                     0\n",
              "7689                0.16  ...                     1\n",
              "6557                0.80  ...                     0\n",
              "6872                0.66  ...                     0\n",
              "820                 0.11  ...                     1\n",
              "\n",
              "[5 rows x 17 columns]"
            ]
          },
          "metadata": {},
          "execution_count": 20
        }
      ]
    },
    {
      "cell_type": "code",
      "metadata": {
        "id": "pSgjr4PV3tvI",
        "colab": {
          "base_uri": "https://localhost:8080/"
        },
        "outputId": "703ab816-5067-49f8-c3a4-f0270348f14a"
      },
      "source": [
        "y_train[:5]"
      ],
      "execution_count": 21,
      "outputs": [
        {
          "output_type": "execute_result",
          "data": {
            "text/plain": [
              "9838    0\n",
              "7689    0\n",
              "6557    0\n",
              "6872    0\n",
              "820     1\n",
              "Name: left, dtype: int64"
            ]
          },
          "metadata": {},
          "execution_count": 21
        }
      ]
    },
    {
      "cell_type": "markdown",
      "metadata": {
        "id": "j72KEun3UyUo"
      },
      "source": [
        "#step 5\n",
        "<h3>Model building "
      ]
    },
    {
      "cell_type": "markdown",
      "metadata": {
        "id": "Ge8U3CMCdnVt"
      },
      "source": [
        "<h3>Logistic Regression"
      ]
    },
    {
      "cell_type": "code",
      "metadata": {
        "id": "MArWULKaQwZe"
      },
      "source": [
        "from sklearn.linear_model import LogisticRegression\n",
        "from sklearn.metrics import confusion_matrix\n",
        "from sklearn.metrics import classification_report\n",
        "from sklearn.model_selection import cross_val_score,StratifiedKFold\n",
        "from sklearn import tree\n",
        "from sklearn.ensemble import RandomForestClassifier\n",
        "from sklearn import svm\n",
        "from sklearn.metrics import roc_auc_score\n"
      ],
      "execution_count": 22,
      "outputs": []
    },
    {
      "cell_type": "code",
      "metadata": {
        "id": "lj31wM6XakhS",
        "colab": {
          "base_uri": "https://localhost:8080/"
        },
        "outputId": "3beed7c4-f485-4091-95ca-bf586f1ea515"
      },
      "source": [
        "skk=StratifiedKFold(shuffle=True,n_splits=10)\n",
        "logreg = LogisticRegression()\n",
        "logreg.fit(X_train, y_train)"
      ],
      "execution_count": 23,
      "outputs": [
        {
          "output_type": "stream",
          "name": "stderr",
          "text": [
            "/usr/local/lib/python3.7/dist-packages/sklearn/linear_model/_logistic.py:940: ConvergenceWarning: lbfgs failed to converge (status=1):\n",
            "STOP: TOTAL NO. of ITERATIONS REACHED LIMIT.\n",
            "\n",
            "Increase the number of iterations (max_iter) or scale the data as shown in:\n",
            "    https://scikit-learn.org/stable/modules/preprocessing.html\n",
            "Please also refer to the documentation for alternative solver options:\n",
            "    https://scikit-learn.org/stable/modules/linear_model.html#logistic-regression\n",
            "  extra_warning_msg=_LOGISTIC_SOLVER_CONVERGENCE_MSG)\n"
          ]
        },
        {
          "output_type": "execute_result",
          "data": {
            "text/plain": [
              "LogisticRegression(C=1.0, class_weight=None, dual=False, fit_intercept=True,\n",
              "                   intercept_scaling=1, l1_ratio=None, max_iter=100,\n",
              "                   multi_class='auto', n_jobs=None, penalty='l2',\n",
              "                   random_state=None, solver='lbfgs', tol=0.0001, verbose=0,\n",
              "                   warm_start=False)"
            ]
          },
          "metadata": {},
          "execution_count": 23
        }
      ]
    },
    {
      "cell_type": "markdown",
      "metadata": {
        "id": "uBrl71BB4JYd"
      },
      "source": [
        "confusion matrix"
      ]
    },
    {
      "cell_type": "code",
      "metadata": {
        "id": "7BiJNi578diZ"
      },
      "source": [
        "pre=logreg.predict(X_test)"
      ],
      "execution_count": 24,
      "outputs": []
    },
    {
      "cell_type": "code",
      "metadata": {
        "id": "cTS5DCpM36jF"
      },
      "source": [
        "# Source code credit for this function: https://gist.github.com/shaypal5/94c53d765083101efc0240d776a23823\n",
        "def print_confusion_matrix(confusion_matrix, class_names, figsize = (10,7), fontsize=14):\n",
        "    \"\"\"Prints a confusion matrix, as returned by sklearn.metrics.confusion_matrix, as a heatmap.\n",
        "    \n",
        "    Arguments\n",
        "    ---------\n",
        "    confusion_matrix: numpy.ndarray\n",
        "        The numpy.ndarray object returned from a call to sklearn.metrics.confusion_matrix. \n",
        "        Similarly constructed ndarrays can also be used.\n",
        "    class_names: list\n",
        "        An ordered list of class names, in the order they index the given confusion matrix.\n",
        "    figsize: tuple\n",
        "        A 2-long tuple, the first value determining the horizontal size of the ouputted figure,\n",
        "        the second determining the vertical size. Defaults to (10,7).\n",
        "    fontsize: int\n",
        "        Font size for axes labels. Defaults to 14.\n",
        "        \n",
        "    Returns\n",
        "    -------\n",
        "    matplotlib.figure.Figure\n",
        "        The resulting confusion matrix figure\n",
        "    \"\"\"\n",
        "    df_cm = pd.DataFrame(\n",
        "        confusion_matrix, index=class_names, columns=class_names, \n",
        "    )\n",
        "    fig = plt.figure(figsize=figsize)\n",
        "    try:\n",
        "        heatmap = sns.heatmap(df_cm, annot=True, fmt=\"d\",cmap=\"YlGnBu\")\n",
        "    except ValueError:\n",
        "        raise ValueError(\"Confusion matrix values must be integers.\")\n",
        "    heatmap.yaxis.set_ticklabels(heatmap.yaxis.get_ticklabels(), rotation=0, ha='right', fontsize=fontsize)\n",
        "    heatmap.xaxis.set_ticklabels(heatmap.xaxis.get_ticklabels(), rotation=45, ha='right', fontsize=fontsize)\n",
        "    plt.ylabel('Actual or Truth')\n",
        "    plt.xlabel('Prediction')"
      ],
      "execution_count": 25,
      "outputs": []
    },
    {
      "cell_type": "code",
      "metadata": {
        "id": "hAIx1Dnw3-mE",
        "colab": {
          "base_uri": "https://localhost:8080/",
          "height": 489
        },
        "outputId": "a0f6320c-68e9-4d3a-92db-6797f9100a87"
      },
      "source": [
        "cm = confusion_matrix(y_test,pre)\n",
        "print_confusion_matrix(cm,[\"not leave\",\"leave\"])"
      ],
      "execution_count": 26,
      "outputs": [
        {
          "output_type": "display_data",
          "data": {
            "image/png": "[encoded data removed]",
            "text/plain": [
              "<Figure size 720x504 with 2 Axes>"
            ]
          },
          "metadata": {
            "needs_background": "light"
          }
        }
      ]
    },
    {
      "cell_type": "code",
      "metadata": {
        "id": "g90iSr_myYaT",
        "colab": {
          "base_uri": "https://localhost:8080/"
        },
        "outputId": "f4e2f36f-3be3-41e5-9c66-d0d016d2c6a6"
      },
      "source": [
        "print(classification_report(y_test,pre))"
      ],
      "execution_count": 27,
      "outputs": [
        {
          "output_type": "stream",
          "name": "stdout",
          "text": [
            "              precision    recall  f1-score   support\n",
            "\n",
            "           0       0.82      0.92      0.87      2294\n",
            "           1       0.57      0.32      0.41       706\n",
            "\n",
            "    accuracy                           0.78      3000\n",
            "   macro avg       0.69      0.62      0.64      3000\n",
            "weighted avg       0.76      0.78      0.76      3000\n",
            "\n"
          ]
        }
      ]
    },
    {
      "cell_type": "code",
      "metadata": {
        "id": "31ds8fRM7D2c",
        "colab": {
          "base_uri": "https://localhost:8080/"
        },
        "outputId": "bbb623a7-4f4a-497d-aca2-602f0c4f14d6"
      },
      "source": [
        "print (\"Logistic ModeL\")\n",
        "logit_roc_auc = roc_auc_score(y_test,logreg.predict(X_test))\n",
        "print (\"Logistic AUC = %2.2f\" % logit_roc_auc)"
      ],
      "execution_count": 28,
      "outputs": [
        {
          "output_type": "stream",
          "name": "stdout",
          "text": [
            "Logistic ModeL\n",
            "Logistic AUC = 0.62\n"
          ]
        }
      ]
    },
    {
      "cell_type": "markdown",
      "metadata": {
        "id": "08XDJjvx64Wf"
      },
      "source": [
        "<H3>DECISION TREE"
      ]
    },
    {
      "cell_type": "code",
      "metadata": {
        "id": "RM7eEPdp63tn",
        "colab": {
          "base_uri": "https://localhost:8080/"
        },
        "outputId": "afb6870a-63bf-4b2c-a802-887dbdca08a3"
      },
      "source": [
        "treemodel = tree.DecisionTreeClassifier()\n",
        "skk=StratifiedKFold(shuffle=True,n_splits=10)\n",
        "treemodel.fit(X_train, y_train)"
      ],
      "execution_count": 29,
      "outputs": [
        {
          "output_type": "execute_result",
          "data": {
            "text/plain": [
              "DecisionTreeClassifier(ccp_alpha=0.0, class_weight=None, criterion='gini',\n",
              "                       max_depth=None, max_features=None, max_leaf_nodes=None,\n",
              "                       min_impurity_decrease=0.0, min_impurity_split=None,\n",
              "                       min_samples_leaf=1, min_samples_split=2,\n",
              "                       min_weight_fraction_leaf=0.0, presort='deprecated',\n",
              "                       random_state=None, splitter='best')"
            ]
          },
          "metadata": {},
          "execution_count": 29
        }
      ]
    },
    {
      "cell_type": "code",
      "metadata": {
        "id": "JmWywS-EAfaw",
        "colab": {
          "base_uri": "https://localhost:8080/"
        },
        "outputId": "179e0dc9-5a6f-45d9-953d-732aa26c06de"
      },
      "source": [
        "score3=cross_val_score(treemodel,X_train,y_train,cv=skk,scoring='accuracy') # Training score\n",
        "print(score3.mean())"
      ],
      "execution_count": 30,
      "outputs": [
        {
          "output_type": "stream",
          "name": "stdout",
          "text": [
            "0.9795818042813457\n"
          ]
        }
      ]
    },
    {
      "cell_type": "code",
      "metadata": {
        "id": "wOLGixtJAa_V",
        "colab": {
          "base_uri": "https://localhost:8080/"
        },
        "outputId": "77aa5cb2-fc3c-422a-a012-a2273ca5e6e6"
      },
      "source": [
        "score2=cross_val_score(treemodel,X_test,y_test,cv=skk,scoring='accuracy') # Testing score\n",
        "print(score2.mean())"
      ],
      "execution_count": 31,
      "outputs": [
        {
          "output_type": "stream",
          "name": "stdout",
          "text": [
            "0.9583333333333334\n"
          ]
        }
      ]
    },
    {
      "cell_type": "code",
      "metadata": {
        "id": "6fgM3iyc8UUb"
      },
      "source": [
        "pretree=treemodel.predict(X_test)"
      ],
      "execution_count": 32,
      "outputs": []
    },
    {
      "cell_type": "code",
      "metadata": {
        "id": "D5oIIbYb8RSO",
        "colab": {
          "base_uri": "https://localhost:8080/"
        },
        "outputId": "708867f4-164d-4a38-a331-cbaa832d0148"
      },
      "source": [
        "print(classification_report(y_test,pretree))"
      ],
      "execution_count": 33,
      "outputs": [
        {
          "output_type": "stream",
          "name": "stdout",
          "text": [
            "              precision    recall  f1-score   support\n",
            "\n",
            "           0       0.99      0.98      0.98      2294\n",
            "           1       0.93      0.96      0.95       706\n",
            "\n",
            "    accuracy                           0.97      3000\n",
            "   macro avg       0.96      0.97      0.96      3000\n",
            "weighted avg       0.97      0.97      0.97      3000\n",
            "\n"
          ]
        }
      ]
    },
    {
      "cell_type": "code",
      "metadata": {
        "id": "Sa64f8ti8tOb",
        "colab": {
          "base_uri": "https://localhost:8080/",
          "height": 489
        },
        "outputId": "c4ab6e1c-3045-4f5d-9fcb-fa564180d64e"
      },
      "source": [
        "cm = confusion_matrix(y_test,pretree)\n",
        "print_confusion_matrix(cm,[\"not leave\",\"leave\"])"
      ],
      "execution_count": 34,
      "outputs": [
        {
          "output_type": "display_data",
          "data": {
            "image/png": "[encoded data removed]",
            "text/plain": [
              "<Figure size 720x504 with 2 Axes>"
            ]
          },
          "metadata": {
            "needs_background": "light"
          }
        }
      ]
    },
    {
      "cell_type": "code",
      "metadata": {
        "id": "TKmdhgmf7XLc",
        "colab": {
          "base_uri": "https://localhost:8080/"
        },
        "outputId": "45e16d95-6a6a-4ee7-e463-7c6b029708c0"
      },
      "source": [
        "print (\"Decision Tree Model\")\n",
        "dt_roc_auc = roc_auc_score(y_test,treemodel.predict(X_test))\n",
        "print (\"Decision Tree AUC = %2.2f\" % dt_roc_auc)\n"
      ],
      "execution_count": 35,
      "outputs": [
        {
          "output_type": "stream",
          "name": "stdout",
          "text": [
            "Decision Tree Model\n",
            "Decision Tree AUC = 0.97\n"
          ]
        }
      ]
    },
    {
      "cell_type": "markdown",
      "metadata": {
        "id": "nEG1PW5o9oHC"
      },
      "source": [
        "<h3>Random Forest"
      ]
    },
    {
      "cell_type": "code",
      "metadata": {
        "id": "R9gb3c8f9tjP",
        "colab": {
          "base_uri": "https://localhost:8080/"
        },
        "outputId": "f5b56ceb-54fe-4fd8-d876-a25e636aae3b"
      },
      "source": [
        "rtreemodel = RandomForestClassifier()\n",
        "rtreemodel.fit(X_train, y_train)"
      ],
      "execution_count": 36,
      "outputs": [
        {
          "output_type": "execute_result",
          "data": {
            "text/plain": [
              "RandomForestClassifier(bootstrap=True, ccp_alpha=0.0, class_weight=None,\n",
              "                       criterion='gini', max_depth=None, max_features='auto',\n",
              "                       max_leaf_nodes=None, max_samples=None,\n",
              "                       min_impurity_decrease=0.0, min_impurity_split=None,\n",
              "                       min_samples_leaf=1, min_samples_split=2,\n",
              "                       min_weight_fraction_leaf=0.0, n_estimators=100,\n",
              "                       n_jobs=None, oob_score=False, random_state=None,\n",
              "                       verbose=0, warm_start=False)"
            ]
          },
          "metadata": {},
          "execution_count": 36
        }
      ]
    },
    {
      "cell_type": "code",
      "metadata": {
        "id": "dFYndj9A9tqv"
      },
      "source": [
        "rpretree=rtreemodel.predict(X_test)"
      ],
      "execution_count": 37,
      "outputs": []
    },
    {
      "cell_type": "code",
      "metadata": {
        "id": "JtTob5k5Yp_k",
        "colab": {
          "base_uri": "https://localhost:8080/"
        },
        "outputId": "b19318b8-6292-4565-e3b5-9da76f692fc0"
      },
      "source": [
        "score7=cross_val_score(rtreemodel,X_train,y_train,cv=skk,scoring='accuracy') # Training score\n",
        "print(score7.mean())"
      ],
      "execution_count": 38,
      "outputs": [
        {
          "output_type": "stream",
          "name": "stdout",
          "text": [
            "0.9908325688073395\n"
          ]
        }
      ]
    },
    {
      "cell_type": "code",
      "metadata": {
        "id": "WvKDE81JYqrI",
        "colab": {
          "base_uri": "https://localhost:8080/"
        },
        "outputId": "57360c1d-0882-45dc-fe0a-7521aa521906"
      },
      "source": [
        "score8=cross_val_score(rtreemodel,X_test,y_test,cv=skk,scoring='accuracy') # Testing score\n",
        "print(score8.mean())"
      ],
      "execution_count": 39,
      "outputs": [
        {
          "output_type": "stream",
          "name": "stdout",
          "text": [
            "0.9800000000000001\n"
          ]
        }
      ]
    },
    {
      "cell_type": "code",
      "metadata": {
        "id": "nIhIwjat_r0k",
        "colab": {
          "base_uri": "https://localhost:8080/"
        },
        "outputId": "8a7d5071-692b-44a9-ffe1-8fe6a1407300"
      },
      "source": [
        "print(classification_report(y_test,rpretree))\n"
      ],
      "execution_count": 40,
      "outputs": [
        {
          "output_type": "stream",
          "name": "stdout",
          "text": [
            "              precision    recall  f1-score   support\n",
            "\n",
            "           0       0.99      1.00      0.99      2294\n",
            "           1       0.99      0.96      0.98       706\n",
            "\n",
            "    accuracy                           0.99      3000\n",
            "   macro avg       0.99      0.98      0.98      3000\n",
            "weighted avg       0.99      0.99      0.99      3000\n",
            "\n"
          ]
        }
      ]
    },
    {
      "cell_type": "code",
      "metadata": {
        "id": "-hN_lkhK_rtr",
        "colab": {
          "base_uri": "https://localhost:8080/",
          "height": 489
        },
        "outputId": "be41f27d-b018-4785-9c65-96067441b40e"
      },
      "source": [
        "cm = confusion_matrix(y_test,rpretree)\n",
        "print_confusion_matrix(cm,[\"not leave\",\"leave\"])"
      ],
      "execution_count": 41,
      "outputs": [
        {
          "output_type": "display_data",
          "data": {
            "image/png": "[encoded data removed]",
            "text/plain": [
              "<Figure size 720x504 with 2 Axes>"
            ]
          },
          "metadata": {
            "needs_background": "light"
          }
        }
      ]
    },
    {
      "cell_type": "code",
      "metadata": {
        "id": "etO-lTSt7gwy",
        "colab": {
          "base_uri": "https://localhost:8080/"
        },
        "outputId": "7f08d55f-7a91-41fe-87ae-9c6604af5b1d"
      },
      "source": [
        "print (\"Random Forest Model\")\n",
        "rf_roc_auc = roc_auc_score(y_test, rtreemodel.predict(X_test))\n",
        "print (\"Random Forest AUC = %2.2f\" % rf_roc_auc)"
      ],
      "execution_count": 42,
      "outputs": [
        {
          "output_type": "stream",
          "name": "stdout",
          "text": [
            "Random Forest Model\n",
            "Random Forest AUC = 0.98\n"
          ]
        }
      ]
    },
    {
      "cell_type": "markdown",
      "metadata": {
        "id": "OnFi8PysZGSc"
      },
      "source": [
        "support vector machine "
      ]
    },
    {
      "cell_type": "code",
      "metadata": {
        "id": "yst1zXri_rpV",
        "colab": {
          "base_uri": "https://localhost:8080/"
        },
        "outputId": "ecfa8c1d-1feb-469a-8048-d1d7a141e1d7"
      },
      "source": [
        "svc = svm.SVC()\n",
        "svc.fit(X_train, y_train)"
      ],
      "execution_count": 43,
      "outputs": [
        {
          "output_type": "execute_result",
          "data": {
            "text/plain": [
              "SVC(C=1.0, break_ties=False, cache_size=200, class_weight=None, coef0=0.0,\n",
              "    decision_function_shape='ovr', degree=3, gamma='scale', kernel='rbf',\n",
              "    max_iter=-1, probability=False, random_state=None, shrinking=True,\n",
              "    tol=0.001, verbose=False)"
            ]
          },
          "metadata": {},
          "execution_count": 43
        }
      ]
    },
    {
      "cell_type": "code",
      "metadata": {
        "id": "FSQxR8kAsi-I"
      },
      "source": [
        "svcpre=svc.predict(X_test)"
      ],
      "execution_count": 44,
      "outputs": []
    },
    {
      "cell_type": "code",
      "metadata": {
        "id": "yI2ONiUTZpDe",
        "colab": {
          "base_uri": "https://localhost:8080/"
        },
        "outputId": "90c0c387-9167-43d2-e934-7a73c5b477c8"
      },
      "source": [
        "score11=cross_val_score(svc,X_train,y_train,cv=skk,scoring='accuracy') # Training score\n",
        "print(score11.mean())"
      ],
      "execution_count": 45,
      "outputs": [
        {
          "output_type": "stream",
          "name": "stdout",
          "text": [
            "0.7828154017236587\n"
          ]
        }
      ]
    },
    {
      "cell_type": "code",
      "metadata": {
        "id": "J7dHR7skZo6x",
        "colab": {
          "base_uri": "https://localhost:8080/"
        },
        "outputId": "3ec4bdf7-5de9-4733-9c80-cb0e113fcea4"
      },
      "source": [
        "score12=cross_val_score(svc,X_test,y_test,cv=skk,scoring='accuracy') # Testing score\n",
        "print(score12.mean())"
      ],
      "execution_count": 46,
      "outputs": [
        {
          "output_type": "stream",
          "name": "stdout",
          "text": [
            "0.7646666666666667\n"
          ]
        }
      ]
    },
    {
      "cell_type": "code",
      "metadata": {
        "id": "0BW_5eCusslA",
        "colab": {
          "base_uri": "https://localhost:8080/"
        },
        "outputId": "2dc90196-2a8c-4ef8-c87e-abf9b1d0c1d7"
      },
      "source": [
        "print(classification_report(y_test,svcpre))"
      ],
      "execution_count": 47,
      "outputs": [
        {
          "output_type": "stream",
          "name": "stdout",
          "text": [
            "              precision    recall  f1-score   support\n",
            "\n",
            "           0       0.78      1.00      0.88      2294\n",
            "           1       0.98      0.08      0.16       706\n",
            "\n",
            "    accuracy                           0.78      3000\n",
            "   macro avg       0.88      0.54      0.52      3000\n",
            "weighted avg       0.83      0.78      0.71      3000\n",
            "\n"
          ]
        }
      ]
    },
    {
      "cell_type": "code",
      "metadata": {
        "id": "p0tVbz5Is4ax",
        "colab": {
          "base_uri": "https://localhost:8080/",
          "height": 489
        },
        "outputId": "49052cf3-b416-4f5a-82a8-92f4573ecb03"
      },
      "source": [
        "cm = confusion_matrix(y_test,svcpre)\n",
        "print_confusion_matrix(cm,[\"not leave\",\"leave\"])"
      ],
      "execution_count": 48,
      "outputs": [
        {
          "output_type": "display_data",
          "data": {
            "image/png": "[encoded data removed]",
            "text/plain": [
              "<Figure size 720x504 with 2 Axes>"
            ]
          },
          "metadata": {
            "needs_background": "light"
          }
        }
      ]
    },
    {
      "cell_type": "code",
      "metadata": {
        "id": "e8Vg_NOt75yW",
        "colab": {
          "base_uri": "https://localhost:8080/"
        },
        "outputId": "d38c7721-0a98-4577-87e3-8f1751feab7b"
      },
      "source": [
        "print (\"Support Vector Machine\")\n",
        "svm_roc_auc = roc_auc_score(y_test, svc.predict(X_test))\n",
        "print (\"SVM AUC = %2.2f\" % svm_roc_auc)"
      ],
      "execution_count": 49,
      "outputs": [
        {
          "output_type": "stream",
          "name": "stdout",
          "text": [
            "Support Vector Machine\n",
            "SVM AUC = 0.54\n"
          ]
        }
      ]
    },
    {
      "cell_type": "markdown",
      "metadata": {
        "id": "T3CrlFGD29MX"
      },
      "source": [
        "ada boost"
      ]
    },
    {
      "cell_type": "code",
      "metadata": {
        "id": "DbDWbyIQ3ADG"
      },
      "source": [
        "from sklearn.ensemble import AdaBoostClassifier\n"
      ],
      "execution_count": 50,
      "outputs": []
    },
    {
      "cell_type": "code",
      "metadata": {
        "id": "WFBecLA22_5Y",
        "colab": {
          "base_uri": "https://localhost:8080/"
        },
        "outputId": "c1f48391-6322-48ce-b59e-af5f7ed63823"
      },
      "source": [
        "ada = AdaBoostClassifier(n_estimators=400, learning_rate=0.1)\n",
        "ada.fit(X_train,y_train)\n"
      ],
      "execution_count": 51,
      "outputs": [
        {
          "output_type": "execute_result",
          "data": {
            "text/plain": [
              "AdaBoostClassifier(algorithm='SAMME.R', base_estimator=None, learning_rate=0.1,\n",
              "                   n_estimators=400, random_state=None)"
            ]
          },
          "metadata": {},
          "execution_count": 51
        }
      ]
    },
    {
      "cell_type": "code",
      "metadata": {
        "id": "fo3dM4d-2-8Q"
      },
      "source": [
        "adapre=ada.predict(X_test)"
      ],
      "execution_count": 52,
      "outputs": []
    },
    {
      "cell_type": "code",
      "metadata": {
        "id": "S8PXr3fF3oY9",
        "colab": {
          "base_uri": "https://localhost:8080/"
        },
        "outputId": "33b11ec9-90c0-4109-93ca-757b492922d4"
      },
      "source": [
        "print(classification_report(y_test,adapre))"
      ],
      "execution_count": 53,
      "outputs": [
        {
          "output_type": "stream",
          "name": "stdout",
          "text": [
            "              precision    recall  f1-score   support\n",
            "\n",
            "           0       0.97      0.98      0.97      2294\n",
            "           1       0.93      0.90      0.92       706\n",
            "\n",
            "    accuracy                           0.96      3000\n",
            "   macro avg       0.95      0.94      0.95      3000\n",
            "weighted avg       0.96      0.96      0.96      3000\n",
            "\n"
          ]
        }
      ]
    },
    {
      "cell_type": "code",
      "metadata": {
        "id": "QhYaPrlN3oWR",
        "colab": {
          "base_uri": "https://localhost:8080/",
          "height": 489
        },
        "outputId": "7db7cead-125e-40de-c8a7-f32e9e05d0d9"
      },
      "source": [
        "cm = confusion_matrix(y_test,adapre)\n",
        "print_confusion_matrix(cm,[\"not leave\",\"leave\"])"
      ],
      "execution_count": 54,
      "outputs": [
        {
          "output_type": "display_data",
          "data": {
            "image/png": "[encoded data removed]",
            "text/plain": [
              "<Figure size 720x504 with 2 Axes>"
            ]
          },
          "metadata": {
            "needs_background": "light"
          }
        }
      ]
    },
    {
      "cell_type": "code",
      "metadata": {
        "id": "xieivCD58OG5",
        "colab": {
          "base_uri": "https://localhost:8080/"
        },
        "outputId": "a3be4c3a-e97d-48f6-9ce4-1078c5363442"
      },
      "source": [
        "print (\"AdaBoost Model\")\n",
        "ada_roc_auc = roc_auc_score(y_test, ada.predict(X_test))\n",
        "print (\"AdaBoost AUC = %2.2f\" % ada_roc_auc)"
      ],
      "execution_count": 55,
      "outputs": [
        {
          "output_type": "stream",
          "name": "stdout",
          "text": [
            "AdaBoost Model\n",
            "AdaBoost AUC = 0.94\n"
          ]
        }
      ]
    },
    {
      "cell_type": "markdown",
      "metadata": {
        "id": "7gJVH6HV4tSh"
      },
      "source": [
        "AUC GRAPH"
      ]
    },
    {
      "cell_type": "code",
      "metadata": {
        "id": "YWUl8qwN48y7",
        "colab": {
          "base_uri": "https://localhost:8080/",
          "height": 295
        },
        "outputId": "af1377c6-849c-42b1-c130-0aa42f827167"
      },
      "source": [
        "from sklearn.metrics import roc_curve\n",
        "\n",
        "import matplotlib.pyplot as plt\n",
        "\n",
        "fpr, tpr, thresholds = roc_curve(y_test, logreg.predict_proba(X_test)[:,1])\n",
        "rf_fpr, rf_tpr, rf_thresholds = roc_curve(y_test,rtreemodel.predict_proba(X_test)[:,1])\n",
        "dt_fpr, dt_tpr, dt_thresholds = roc_curve(y_test, treemodel.predict_proba(X_test)[:,1])\n",
        "ada_fpr, ada_tpr, ada_thresholds = roc_curve(y_test, ada.predict_proba(X_test)[:,1])\n",
        "\n",
        "\n",
        "plt.figure()\n",
        "\n",
        "# Plot Logistic Regression ROC\n",
        "plt.plot(fpr, tpr, label='Logistic Regression (area = %0.2f)' % logit_roc_auc)\n",
        "\n",
        "# Plot Random Forest ROC\n",
        "plt.plot(rf_fpr, rf_tpr, label='Random Forest (area = %0.2f)' % rf_roc_auc)\n",
        "\n",
        "# Plot Decision Tree ROC\n",
        "plt.plot(dt_fpr, dt_tpr, label='Decision Tree (area = %0.2f)' % dt_roc_auc)\n",
        "\n",
        "# Plot Support Vector Tree Tree ROC\n",
        "plt.plot(label='Support vector machine (area = %0.2f)' % svm_roc_auc)\n",
        "\n",
        "# Plot AdaBoost ROC\n",
        "plt.plot(ada_fpr, ada_tpr, label='AdaBoost (area = %0.2f)' % ada_roc_auc)\n",
        "\n",
        "# Plot Base Rate ROC\n",
        "plt.plot([0,1], [0,1],label='Base Rate' 'k--')\n",
        "\n",
        "plt.xlim([0.0, 1.0])\n",
        "plt.ylim([0.0, 1.05])\n",
        "plt.xlabel('False Positive Rate')\n",
        "plt.ylabel('True Positive Rate')\n",
        "plt.title('ROC Graph')\n",
        "plt.legend(loc=\"lower right\")\n",
        "plt.show()"
      ],
      "execution_count": 56,
      "outputs": [
        {
          "output_type": "display_data",
          "data": {
            "image/png": "[encoded data removed]",
            "text/plain": [
              "<Figure size 432x288 with 1 Axes>"
            ]
          },
          "metadata": {
            "needs_background": "light"
          }
        }
      ]
    },
    {
      "cell_type": "markdown",
      "metadata": {
        "id": "A_jC2XrtdX5v"
      },
      "source": [
        "SAVING THE  BEST MODEL "
      ]
    },
    {
      "cell_type": "code",
      "metadata": {
        "id": "hza6xRZVvTNH"
      },
      "source": [
        "import pickle"
      ],
      "execution_count": 60,
      "outputs": []
    },
    {
      "cell_type": "code",
      "metadata": {
        "id": "8OeNJJQCde1T"
      },
      "source": [
        "with open('rajat_model_pickle_3','wb') as file:   # save model\n",
        "    pickle.dump(rtreemodel,file)"
      ],
      "execution_count": 61,
      "outputs": []
    },
    {
      "cell_type": "code",
      "metadata": {
        "id": "oTdirxHfde4a"
      },
      "source": [
        "with open('rajat_model_pickle_3','rb') as file:       # Run model\n",
        "    rajat_3= pickle.load(file)"
      ],
      "execution_count": 62,
      "outputs": []
    }
  ]
}